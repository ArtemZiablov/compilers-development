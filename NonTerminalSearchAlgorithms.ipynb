{
  "nbformat": 4,
  "nbformat_minor": 0,
  "metadata": {
    "colab": {
      "provenance": []
    },
    "kernelspec": {
      "name": "python3",
      "display_name": "Python 3"
    },
    "language_info": {
      "name": "python"
    }
  },
  "cells": [
    {
      "cell_type": "markdown",
      "source": [
        "# NonTerminalSearchAlgorithms\n",
        "\n",
        "**Task:**\n",
        "\n",
        "Implement algorithms in Python that take a grammar as input in the form of a dictionary and return:\n",
        "- Unproductive nonterminals\n",
        "- Unreachable nonterminals\n",
        "- Disappearing (vanishing) nonterminals\n",
        "\n",
        "(These can be 3 separate functions or class methods)\n",
        "\n",
        "## Example Grammar\n",
        "\n",
        "Below is an example of a grammar defined in Python as a dictionary:\n",
        "\n",
        "### Non-terminal symbols:\n",
        "- `S, A, B, C, D, E, F, G, H, I, J`\n",
        "\n",
        "### Terminal symbols:\n",
        "- `a, b, c, d, e, h, i`\n",
        "\n",
        "`S` is the start symbol.\n",
        "\n",
        "```python\n",
        "grammar = {\n",
        "    \"S\": [[\"A\", \"B\"], [\"C\"]],\n",
        "    \"A\": [[\"a\", \"A\"], [\"b\"]],\n",
        "    \"B\": [[\"b\", \"B\"], []],\n",
        "    \"C\": [[\"c\"]],\n",
        "    \"D\": [[\"d\", \"E\"]],\n",
        "    \"E\": [[\"e\"]],\n",
        "    \"F\": [[\"G\"]],\n",
        "    \"G\": [[\"H\"]],\n",
        "    \"H\": [[\"h\", \"I\"]],\n",
        "    \"I\": [[\"i\", \"J\"]]\n",
        "}\n"
      ],
      "metadata": {
        "id": "WYDYhoizvWbn"
      }
    },
    {
      "cell_type": "code",
      "execution_count": 3,
      "metadata": {
        "colab": {
          "base_uri": "https://localhost:8080/"
        },
        "id": "hVkdP_EFt__P",
        "outputId": "2166b18b-bb3a-4b43-ff75-b381a367ffd3"
      },
      "outputs": [
        {
          "output_type": "stream",
          "name": "stdout",
          "text": [
            "Unproductive non-terminals: {'G', 'I', 'H', 'F'}\n",
            "Unreachable non-terminals: {'G', 'I', 'E', 'D', 'H', 'F'}\n",
            "Vanishing non-terminals: {'B'}\n"
          ]
        }
      ],
      "source": [
        "grammar = {\n",
        "    \"S\": [[\"A\", \"B\"], [\"C\"]],\n",
        "    \"A\": [[\"a\", \"A\"], [\"b\"]],\n",
        "    \"B\": [[\"b\", \"B\"], []],\n",
        "    \"C\": [[\"c\"]],\n",
        "\n",
        "    \"D\": [[\"d\", \"E\"]],\n",
        "    \"E\": [[\"e\"]],\n",
        "\n",
        "    \"F\": [[\"G\"]],\n",
        "    \"G\": [[\"H\"]],\n",
        "    \"H\": [[\"h\", \"I\"]],\n",
        "    \"I\": [[\"i\", \"J\"]],\n",
        "}\n",
        "\n",
        "def find_unproductive_nonterminals(grammar):\n",
        "    productive = set()\n",
        "    unproductive = set(grammar.keys())\n",
        "    changed = True\n",
        "\n",
        "    while changed:\n",
        "        changed = False\n",
        "        for nonterminal, productions in grammar.items():\n",
        "            if nonterminal in productive:\n",
        "                continue\n",
        "            for production in productions:\n",
        "                if all(symbol in productive or symbol.islower() for symbol in production):\n",
        "                    productive.add(nonterminal)\n",
        "                    unproductive.discard(nonterminal)\n",
        "                    changed = True\n",
        "                    break\n",
        "    return unproductive\n",
        "\n",
        "def find_unreachable_nonterminals(grammar):\n",
        "    reachable = set(\"S\")\n",
        "    changed = True\n",
        "\n",
        "    while changed:\n",
        "        changed = False\n",
        "        for nonterminal in list(reachable):\n",
        "            for production in grammar.get(nonterminal, []):\n",
        "                for symbol in production:\n",
        "                    if symbol.isupper() and symbol not in reachable:\n",
        "                        reachable.add(symbol)\n",
        "                        changed = True\n",
        "\n",
        "    return set(grammar.keys()) - reachable\n",
        "\n",
        "def find_vanishing_nonterminals(grammar):\n",
        "    vanishing = set()\n",
        "    changed = True\n",
        "\n",
        "    while changed:\n",
        "        changed = False\n",
        "        for nonterminal, productions in grammar.items():\n",
        "            if nonterminal in vanishing:\n",
        "                continue\n",
        "            for production in productions:\n",
        "                if all(symbol in vanishing or symbol == \"\" for symbol in production):\n",
        "                    vanishing.add(nonterminal)\n",
        "                    changed = True\n",
        "                    break\n",
        "    return vanishing\n",
        "\n",
        "unproductive_nonterminals = find_unproductive_nonterminals(grammar)\n",
        "unreachable_nonterminals = find_unreachable_nonterminals(grammar)\n",
        "vanishing_nonterminals = find_vanishing_nonterminals(grammar)\n",
        "\n",
        "print(\"Unproductive non-terminals:\", unproductive_nonterminals)\n",
        "print(\"Unreachable non-terminals:\", unreachable_nonterminals)\n",
        "print(\"Vanishing non-terminals:\", vanishing_nonterminals)"
      ]
    }
  ]
}