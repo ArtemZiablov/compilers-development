{
  "nbformat": 4,
  "nbformat_minor": 0,
  "metadata": {
    "colab": {
      "provenance": []
    },
    "kernelspec": {
      "name": "python3",
      "display_name": "Python 3"
    },
    "language_info": {
      "name": "python"
    }
  },
  "cells": [
    {
      "cell_type": "markdown",
      "source": [
        "**<H1>ЛЕКСИЧНИЙ АНАЛІЗ</H1>**\n",
        "\n",
        "Автор: **Григорій ЖОЛТКЕВИЧ**"
      ],
      "metadata": {
        "id": "VbaciI-MMaLB"
      }
    },
    {
      "cell_type": "markdown",
      "source": [
        "# **Підготовка блокноту до роботи**"
      ],
      "metadata": {
        "id": "Y-G601IyMPv4"
      }
    },
    {
      "cell_type": "code",
      "source": [
        "from typing import Tuple, Sequence, Any\n",
        "from typing_extensions import Self"
      ],
      "metadata": {
        "id": "5zGBA48v8u7F"
      },
      "execution_count": 43,
      "outputs": []
    },
    {
      "cell_type": "markdown",
      "source": [
        "# **Клас регулярних виразів**"
      ],
      "metadata": {
        "id": "mzc72HBaMFja"
      }
    },
    {
      "cell_type": "code",
      "execution_count": 44,
      "metadata": {
        "id": "iV8MKHXSo836"
      },
      "outputs": [],
      "source": [
        "class ReX(tuple):\n",
        "\n",
        "    EMT = 0  # empty expression\n",
        "    NIL = 1  # nil expression\n",
        "    CHR = 2  # one letter expression\n",
        "    AST = 3  # Kleene closure\n",
        "    CAT = 4  # concatanation\n",
        "    ALT = 5  # alternation\n",
        "\n",
        "    def __new__(cls, kind: int, *args: Sequence[Any]) -> Self:\n",
        "        if type(kind) != int:\n",
        "            raise ValueError(\"ReX() error! Bad type of expression kind\")\n",
        "        if kind == ReX.EMT or kind == ReX.NIL:\n",
        "            if args:\n",
        "                raise ValueError(\"ReX() error! Unexpected argument(s)\")\n",
        "            return super().__new__(cls, (kind, ()))\n",
        "        elif kind == ReX.CHR:\n",
        "            if len(args) != 1:\n",
        "                raise ValueError(\"ReX() error! Invalid number of arguments\")\n",
        "            if type(args[0]) != str and len(args[0]) != 1:\n",
        "                raise ValueError(\"ReX() error! Bad argument(s)\")\n",
        "            return super().__new__(cls, (kind, args))\n",
        "        elif kind == ReX.AST:\n",
        "            if len(args) != 1:\n",
        "                raise ValueError(\"ReX() error! Invalid number of arguments\")\n",
        "            if type(args[0]) != ReX:\n",
        "                raise ValueError(\"ReX() error! Bad argument(s)\")\n",
        "            return super().__new__(cls, (kind, args))\n",
        "        elif kind == ReX.CAT or kind == ReX.ALT:\n",
        "            if len(args) != 2:\n",
        "                raise ValueError(\"ReX() error! Invalid number of arguments\")\n",
        "            if not all(type(arg) == ReX for arg in args):\n",
        "                raise ValueError(\"ReX() error! Bad argument(s)\")\n",
        "            return super().__new__(cls, (kind, args))\n",
        "        else:\n",
        "            raise ValueError(\"ReX() error! Bad kind of expression\")\n",
        "\n",
        "    @property\n",
        "    def kind(self):\n",
        "        return self[0]\n",
        "\n",
        "    def __eq__(self, another: Self) -> bool:\n",
        "        if type(another) != ReX:\n",
        "            raise ValueError(\"invalid comparison\")\n",
        "        return super().__eq__(self, another)\n",
        "\n",
        "    def __ne__(self, another):\n",
        "        return not (self == another)\n",
        "\n",
        "    def __str__(self):\n",
        "        if self.kind == ReX.EMT:\n",
        "            return \"∅\"\n",
        "        if self.kind == ReX.NIL:\n",
        "            return \"ϵ\"\n",
        "        if self.kind == ReX.CHR:\n",
        "            return self[1][0]\n",
        "        if self.kind == ReX.AST:\n",
        "            return f\"{self[1][0]}*\"\n",
        "        if self.kind == ReX.CAT:\n",
        "            return f\"({self[1][0]} {self[1][1]})\"\n",
        "        # self.kind == ReX.ALT\n",
        "        return f\"({self[1][0]} | {self[1][1]})\"\n",
        "\n",
        "    @classmethod\n",
        "    def Empty(cls) -> Self:\n",
        "        return ReX(ReX.EMT)\n",
        "\n",
        "    @classmethod\n",
        "    def Nil(cls) -> Self:\n",
        "        return ReX(ReX.NIL)\n",
        "\n",
        "    @classmethod\n",
        "    def Char(cls, ch: str) -> Self:\n",
        "        return ReX(ReX.CHR, ch)\n",
        "\n",
        "    @classmethod\n",
        "    def Ast(cls, rex: Self) -> Self:\n",
        "        return ReX(ReX.AST, rex)\n",
        "\n",
        "    @classmethod\n",
        "    def Cat(cls, rex1: Self, rex2: Self) -> Self:\n",
        "        return ReX(ReX.CAT, rex1, rex2)\n",
        "\n",
        "    @classmethod\n",
        "    def Alt(cls, rex1: Self, rex2: Self) -> Self:\n",
        "        return ReX(ReX.ALT, rex1, rex2)"
      ]
    },
    {
      "cell_type": "code",
      "source": [
        "empty = ReX.Empty()\n",
        "print(f\"empty = {empty}\")\n",
        "nil = ReX.Nil()\n",
        "print(f\"nil   = {nil}\")\n",
        "a, b = ReX.Char('a'), ReX.Char('b')\n",
        "print(f\"a  = '{a}', b = '{b}'\")\n",
        "ast = ReX.Ast(a)\n",
        "print(f\"ast   = {ast}\")\n",
        "cat = ReX.Cat(a, b)\n",
        "print(f\"cat   = {cat}\")\n",
        "alt = ReX.Alt(a, b)\n",
        "print(f\"alt   = {alt}\")"
      ],
      "metadata": {
        "colab": {
          "base_uri": "https://localhost:8080/"
        },
        "id": "qnMOsqKzbmIG",
        "outputId": "b1473762-1e5e-484f-db48-3feb2009b499"
      },
      "execution_count": 45,
      "outputs": [
        {
          "output_type": "stream",
          "name": "stdout",
          "text": [
            "empty = ∅\n",
            "nil   = ϵ\n",
            "a  = 'a', b = 'b'\n",
            "ast   = a*\n",
            "cat   = (a b)\n",
            "alt   = (a | b)\n"
          ]
        }
      ]
    },
    {
      "cell_type": "markdown",
      "source": [
        "# **Функція** `simplify()`"
      ],
      "metadata": {
        "id": "BXAilFXtS7IH"
      }
    },
    {
      "cell_type": "markdown",
      "source": [
        "Функція `simplify(expr: ReX) -> ReX`\n",
        "забезпечує рекурсивне спрощення регулярних виразів за правилами\n",
        "\n",
        "- $(\\emptyset\\mid e)\\longrightarrow e$\n",
        "- $(e\\mid\\emptyset)\\longrightarrow e$\n",
        "- $(\\emptyset\\ e)\\longrightarrow\\emptyset$\n",
        "- $(e\\ \\emptyset)\\longrightarrow\\emptyset$\n",
        "- $(\\epsilon\\ e)\\longrightarrow e$\n",
        "- $(e\\ \\epsilon)\\longrightarrow e$\n",
        "- $(\\emptyset)^\\ast\\longrightarrow\\epsilon$\n",
        "- $(\\epsilon)^\\ast\\longrightarrow\\epsilon$"
      ],
      "metadata": {
        "id": "mFJ1OY6hTJwB"
      }
    },
    {
      "cell_type": "code",
      "source": [
        "def simplify(rex: ReX) -> ReX:\n",
        "    # Simplify an alternation expression\n",
        "    if rex.kind == ReX.ALT:\n",
        "        left, right = rex[1]\n",
        "        left, right = simplify(left), simplify(right)\n",
        "        # If one side is empty, return the other\n",
        "        if left.kind == ReX.EMT:\n",
        "            return right\n",
        "        if right.kind == ReX.EMT:\n",
        "            return left\n",
        "        return ReX.Alt(left, right)\n",
        "    # Simplify a concatenation expression\n",
        "    elif rex.kind == ReX.CAT:\n",
        "        left, right = rex[1]\n",
        "        left, right = simplify(left), simplify(right)\n",
        "        # If either side is empty, return empty\n",
        "        if left.kind == ReX.EMT or right.kind == ReX.EMT:\n",
        "            return ReX.Empty()\n",
        "        # If one side is nil, return the other\n",
        "        if left.kind == ReX.NIL:\n",
        "            return right\n",
        "        if right.kind == ReX.NIL:\n",
        "            return left\n",
        "        return ReX.Cat(left, right)\n",
        "    # Simplify a Kleene star expression\n",
        "    elif rex.kind == ReX.AST:\n",
        "        inner = simplify(rex[1][0])\n",
        "        # Kleene star of empty or nil is nil\n",
        "        if inner.kind == ReX.EMT or inner.kind == ReX.NIL:\n",
        "            return ReX.Nil()\n",
        "        return ReX.Ast(inner)\n",
        "    # If the expression is already simple, return it as is\n",
        "    return rex"
      ],
      "metadata": {
        "id": "YdTSDpifiKTW"
      },
      "execution_count": 46,
      "outputs": []
    },
    {
      "cell_type": "markdown",
      "source": [
        "# **Функція** `check_nil()`"
      ],
      "metadata": {
        "id": "0lXOKla0d80U"
      }
    },
    {
      "cell_type": "markdown",
      "source": [
        "Функція `does_contain_nil(rex: ReX) -> bool`\n",
        "перевіряє чи належить порожнє слово регулярній мові, що визначається регулярним виразом `ReX`."
      ],
      "metadata": {
        "id": "uaycpwjLe0aA"
      }
    },
    {
      "cell_type": "code",
      "source": [
        "def does_contain_nil(rex: ReX) -> bool:\n",
        "    # Check if the expression is nil\n",
        "    if rex.kind == ReX.NIL:\n",
        "        return True\n",
        "    # Empty expressions do not contain nil\n",
        "    elif rex.kind == ReX.EMT:\n",
        "        return False\n",
        "    # Single character expressions do not contain nil\n",
        "    elif rex.kind == ReX.CHR:\n",
        "        return False\n",
        "    # Alternation contains nil if either operand contains nil\n",
        "    elif rex.kind == ReX.ALT:\n",
        "        return does_contain_nil(rex[1][0]) or does_contain_nil(rex[1][1])\n",
        "    # Concatenation contains nil if both operands contain nil\n",
        "    elif rex.kind == ReX.CAT:\n",
        "        return does_contain_nil(rex[1][0]) and does_contain_nil(rex[1][1])\n",
        "    # Kleene star always contains nil\n",
        "    elif rex.kind == ReX.AST:\n",
        "        return True\n",
        "    # Default return False\n",
        "    return False"
      ],
      "metadata": {
        "id": "Wh638rNwuwJP"
      },
      "execution_count": 47,
      "outputs": []
    },
    {
      "cell_type": "markdown",
      "source": [
        "# **Функція** `Brzozowski()`"
      ],
      "metadata": {
        "id": "owHPJiyNfx0I"
      }
    },
    {
      "cell_type": "markdown",
      "source": [
        "Функція `Brzozowski(rex: ReX, ch: str) -> ReX`\n",
        "обчислює похідну Бжозовськи за символом `ch` регулярного виразу `rex`."
      ],
      "metadata": {
        "id": "Bd0ahI9Hf8pV"
      }
    },
    {
      "cell_type": "code",
      "source": [
        "def Brzozowski(rex: ReX, ch: str) -> ReX:\n",
        "    # Derivative of an empty expression is empty\n",
        "    if rex.kind == ReX.EMT:\n",
        "        return ReX.Empty()\n",
        "    # Derivative of a nil expression is empty\n",
        "    elif rex.kind == ReX.NIL:\n",
        "        return ReX.Empty()\n",
        "    # Derivative of a character expression\n",
        "    elif rex.kind == ReX.CHR:\n",
        "        return ReX.Nil() if rex[1][0] == ch else ReX.Empty()\n",
        "    # Derivative of an alternation is the alternation of derivatives\n",
        "    elif rex.kind == ReX.ALT:\n",
        "        return simplify(ReX.Alt(Brzozowski(rex[1][0], ch), Brzozowski(rex[1][1], ch)))\n",
        "    # Derivative of a concatenation\n",
        "    elif rex.kind == ReX.CAT:\n",
        "        left, right = rex[1]\n",
        "        # If left contains nil, take the derivative of both parts\n",
        "        if does_contain_nil(left):\n",
        "            return simplify(ReX.Alt(ReX.Cat(Brzozowski(left, ch), right), Brzozowski(right, ch)))\n",
        "        else:\n",
        "            return simplify(ReX.Cat(Brzozowski(left, ch), right))\n",
        "    # Derivative of a Kleene star is the concatenation of the derivative of the inner expression and the star itself\n",
        "    elif rex.kind == ReX.AST:\n",
        "        inner = rex[1][0]\n",
        "        return simplify(ReX.Cat(Brzozowski(inner, ch), ReX.Ast(inner)))\n",
        "    # Default case returns empty\n",
        "    return ReX.Empty()"
      ],
      "metadata": {
        "id": "ebiIIfImxZ_D"
      },
      "execution_count": 48,
      "outputs": []
    },
    {
      "cell_type": "code",
      "source": [
        "if __name__ == \"__main__\":\n",
        "    empty = ReX.Empty()\n",
        "    nil = ReX.Nil()\n",
        "    a, b, c, d = ReX.Char('a'), ReX.Char('b'), ReX.Char('c'), ReX.Char('d')\n",
        "\n",
        "    print(\"Tests of simplify method:\")\n",
        "    expr1 = ReX.Alt(a, ReX.Empty())\n",
        "    simplified_expr1 = simplify(expr1)\n",
        "    print(f\"simplify({expr1}) = {simplified_expr1}\")\n",
        "\n",
        "    expr2 = ReX.Cat(ReX.Nil(), b)\n",
        "    simplified_expr2 = simplify(expr2)\n",
        "    print(f\"simplify({expr2}) = {simplified_expr2}\")\n",
        "\n",
        "    expr3 = ReX.Ast(ReX.Nil())\n",
        "    simplified_expr3 = simplify(expr3)\n",
        "    print(f\"simplify({expr3}) = {simplified_expr3}\")\n",
        "\n",
        "    expr4 = ReX.Cat(ReX.Alt(a, b), ReX.Empty())\n",
        "    simplified_expr4 = simplify(expr4)\n",
        "    print(f\"simplify({expr4}) = {simplified_expr4}\")\n",
        "\n",
        "    expr5 = ReX.Ast(ReX.Alt(a, ReX.Nil()))\n",
        "    simplified_expr5 = simplify(expr5)\n",
        "    print(f\"simplify({expr5}) = {simplified_expr5}\")\n",
        "\n",
        "    expr6 = ReX.Cat(ReX.Nil(), ReX.Alt(a, b))\n",
        "    simplified_expr6 = simplify(expr6)\n",
        "    print(f\"simplify({expr6}) = {simplified_expr6}\\n\")\n",
        "\n",
        "\n",
        "    print(\"Tests of does_contain_nil method:\")\n",
        "    expr7 = ReX.Ast(b)\n",
        "    contains_nil_expr7 = does_contain_nil(expr7)\n",
        "    print(f\"does_contain_nil({expr7}) = {contains_nil_expr7}\")\n",
        "\n",
        "    expr8 = ReX.Cat(c, d)\n",
        "    contains_nil_expr8 = does_contain_nil(expr8)\n",
        "    print(f\"does_contain_nil({expr8}) = {contains_nil_expr8}\")\n",
        "\n",
        "    expr9 = ReX.Alt(c, ReX.Nil())\n",
        "    contains_nil_expr9 = does_contain_nil(expr9)\n",
        "    print(f\"does_contain_nil({expr9}) = {contains_nil_expr9}\")\n",
        "\n",
        "    expr10 = ReX.Cat(ReX.Ast(a), ReX.Nil())\n",
        "    contains_nil_expr10 = does_contain_nil(expr10)\n",
        "    print(f\"does_contain_nil({expr10}) = {contains_nil_expr10}\")\n",
        "\n",
        "    expr11 = ReX.Ast(ReX.Alt(a, b))\n",
        "    contains_nil_expr11 = does_contain_nil(expr11)\n",
        "    print(f\"does_contain_nil({expr11}) = {contains_nil_expr11}\\n\")\n",
        "\n",
        "    print(\"Tests of Brzozowski method:\")\n",
        "    expr12 = ReX.Alt(a, b)\n",
        "    derivative_expr12 = Brzozowski(expr12, 'a')\n",
        "    print(f\"Brzozowski({expr12}, 'a') = {derivative_expr12}\")\n",
        "\n",
        "    expr13 = ReX.Cat(a, ReX.Ast(b))\n",
        "    derivative_expr13 = Brzozowski(expr13, 'a')\n",
        "    print(f\"Brzozowski({expr13}, 'a') = {derivative_expr13}\")\n",
        "\n",
        "    expr14 = ReX.Alt(ReX.Cat(a, b), c)\n",
        "    derivative_expr14 = Brzozowski(expr14, 'a')\n",
        "    print(f\"Brzozowski({expr14}, 'a') = {derivative_expr14}\")\n",
        "\n",
        "    expr15 = ReX.Ast(ReX.Cat(a, b))\n",
        "    derivative_expr15 = Brzozowski(expr15, 'a')\n",
        "    print(f\"Brzozowski({expr15}, 'a') = {derivative_expr15}\")\n",
        "\n",
        "    expr16 = ReX.Cat(ReX.Alt(a, c), ReX.Ast(b))\n",
        "    derivative_expr16 = Brzozowski(expr16, 'a')\n",
        "    print(f\"Brzozowski({expr16}, 'a') = {derivative_expr16}\")"
      ],
      "metadata": {
        "colab": {
          "base_uri": "https://localhost:8080/"
        },
        "id": "0a8HK1cQhCrw",
        "outputId": "992647ae-183d-4ee3-cf7e-57e99c33e167"
      },
      "execution_count": 49,
      "outputs": [
        {
          "output_type": "stream",
          "name": "stdout",
          "text": [
            "Tests of simplify method:\n",
            "simplify((a | ∅)) = a\n",
            "simplify((ϵ b)) = b\n",
            "simplify(ϵ*) = ϵ\n",
            "simplify(((a | b) ∅)) = ∅\n",
            "simplify((a | ϵ)*) = (a | ϵ)*\n",
            "simplify((ϵ (a | b))) = (a | b)\n",
            "\n",
            "Tests of does_contain_nil method:\n",
            "does_contain_nil(b*) = True\n",
            "does_contain_nil((c d)) = False\n",
            "does_contain_nil((c | ϵ)) = True\n",
            "does_contain_nil((a* ϵ)) = True\n",
            "does_contain_nil((a | b)*) = True\n",
            "\n",
            "Tests of Brzozowski method:\n",
            "Brzozowski((a | b), 'a') = ϵ\n",
            "Brzozowski((a b*), 'a') = b*\n",
            "Brzozowski(((a b) | c), 'a') = b\n",
            "Brzozowski((a b)*, 'a') = (b (a b)*)\n",
            "Brzozowski(((a | c) b*), 'a') = b*\n"
          ]
        }
      ]
    }
  ]
}